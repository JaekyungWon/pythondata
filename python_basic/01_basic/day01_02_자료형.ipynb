{
 "cells": [
  {
   "cell_type": "raw",
   "id": "939febfe-7690-4e5c-8d9d-91c64a302cb7",
   "metadata": {},
   "source": [
    "숫자형"
   ]
  },
  {
   "cell_type": "markdown",
   "id": "8f52e2e1-0be8-4320-a0fc-b65dc0b84048",
   "metadata": {
    "tags": []
   },
   "source": [
    "# 숫자형"
   ]
  },
  {
   "cell_type": "code",
   "execution_count": 1,
   "id": "58c8ece6-a524-403a-bfaa-761985e4f4a0",
   "metadata": {},
   "outputs": [],
   "source": [
    "a = 123"
   ]
  },
  {
   "cell_type": "code",
   "execution_count": 7,
   "id": "11534d1d-7856-4d30-a590-69c84c8d6472",
   "metadata": {},
   "outputs": [
    {
     "name": "stdout",
     "output_type": "stream",
     "text": [
      "123\n"
     ]
    }
   ],
   "source": [
    "print(a)"
   ]
  },
  {
   "cell_type": "code",
   "execution_count": 8,
   "id": "559ad8fd-4c36-4da5-80b5-30b13b8f5309",
   "metadata": {},
   "outputs": [],
   "source": [
    "b = 456"
   ]
  },
  {
   "cell_type": "code",
   "execution_count": 9,
   "id": "318a4fcc-fa87-4ac1-9fcb-34df2390267b",
   "metadata": {},
   "outputs": [
    {
     "data": {
      "text/plain": [
       "456"
      ]
     },
     "execution_count": 9,
     "metadata": {},
     "output_type": "execute_result"
    }
   ],
   "source": [
    "a\n",
    "b"
   ]
  },
  {
   "cell_type": "code",
   "execution_count": 10,
   "id": "6910abc0-6b21-4761-b12a-70346ac454f2",
   "metadata": {},
   "outputs": [
    {
     "name": "stdout",
     "output_type": "stream",
     "text": [
      "123 456\n"
     ]
    }
   ],
   "source": [
    "print(a,b)"
   ]
  },
  {
   "cell_type": "raw",
   "id": "5c8e0a79-18af-49e1-949e-3a5b05b40e81",
   "metadata": {},
   "source": [
    "원래 print 해서 보는 게 맞는데 jypyter lap, notebook에서는 마지막 값 하나는 그냥 b 이렇게 써도 값 나오게 해줌 - 딥러닝에서 많이 쓰여서 편하게 하려고 만든 기능이라고 보면됨"
   ]
  },
  {
   "cell_type": "code",
   "execution_count": 11,
   "id": "5b823695-5bc4-4657-a300-2d02a88e8920",
   "metadata": {},
   "outputs": [
    {
     "data": {
      "text/plain": [
       "(123, 456)"
      ]
     },
     "execution_count": 11,
     "metadata": {},
     "output_type": "execute_result"
    }
   ],
   "source": [
    "a,b"
   ]
  },
  {
   "cell_type": "code",
   "execution_count": 12,
   "id": "d52d92c0-1f65-49ed-892d-88b1c8b8a4c7",
   "metadata": {},
   "outputs": [
    {
     "data": {
      "text/plain": [
       "int"
      ]
     },
     "execution_count": 12,
     "metadata": {},
     "output_type": "execute_result"
    }
   ],
   "source": [
    "type(a)"
   ]
  },
  {
   "cell_type": "code",
   "execution_count": 13,
   "id": "d2ea211a-49da-4498-8afe-822d41678a69",
   "metadata": {},
   "outputs": [
    {
     "data": {
      "text/plain": [
       "1.9"
      ]
     },
     "execution_count": 13,
     "metadata": {},
     "output_type": "execute_result"
    }
   ],
   "source": [
    "a=1.9\n",
    "a"
   ]
  },
  {
   "cell_type": "code",
   "execution_count": 14,
   "id": "88adc195-1540-4ec1-8c1b-96c147734523",
   "metadata": {},
   "outputs": [
    {
     "data": {
      "text/plain": [
       "float"
      ]
     },
     "execution_count": 14,
     "metadata": {},
     "output_type": "execute_result"
    }
   ],
   "source": [
    "type(a)"
   ]
  },
  {
   "cell_type": "code",
   "execution_count": 15,
   "id": "6d38e01c-a90d-4377-9d9a-f117ec8dcff2",
   "metadata": {
    "tags": []
   },
   "outputs": [
    {
     "data": {
      "text/plain": [
       "\u001b[1;31mDocstring:\u001b[0m\n",
       "print(value, ..., sep=' ', end='\\n', file=sys.stdout, flush=False)\n",
       "\n",
       "Prints the values to a stream, or to sys.stdout by default.\n",
       "Optional keyword arguments:\n",
       "file:  a file-like object (stream); defaults to the current sys.stdout.\n",
       "sep:   string inserted between values, default a space.\n",
       "end:   string appended after the last value, default a newline.\n",
       "flush: whether to forcibly flush the stream.\n",
       "\u001b[1;31mType:\u001b[0m      builtin_function_or_method\n"
      ]
     },
     "metadata": {},
     "output_type": "display_data"
    }
   ],
   "source": [
    "print?"
   ]
  },
  {
   "cell_type": "raw",
   "id": "091403e1-d954-497d-ac1c-04acba2f2ef2",
   "metadata": {},
   "source": [
    "shift+tab 또는 ?, help()를 하면 정보 알 수 있다"
   ]
  },
  {
   "cell_type": "code",
   "execution_count": 16,
   "id": "cc193123-e3bb-4322-9717-cc0d29b3dbab",
   "metadata": {},
   "outputs": [
    {
     "name": "stdout",
     "output_type": "stream",
     "text": [
      "Help on built-in function print in module builtins:\n",
      "\n",
      "print(...)\n",
      "    print(value, ..., sep=' ', end='\\n', file=sys.stdout, flush=False)\n",
      "    \n",
      "    Prints the values to a stream, or to sys.stdout by default.\n",
      "    Optional keyword arguments:\n",
      "    file:  a file-like object (stream); defaults to the current sys.stdout.\n",
      "    sep:   string inserted between values, default a space.\n",
      "    end:   string appended after the last value, default a newline.\n",
      "    flush: whether to forcibly flush the stream.\n",
      "\n"
     ]
    }
   ],
   "source": [
    "help(print)"
   ]
  },
  {
   "cell_type": "code",
   "execution_count": 17,
   "id": "6b9013fc-231d-4301-9ff1-967625d268a5",
   "metadata": {},
   "outputs": [
    {
     "data": {
      "text/plain": [
       "\u001b[1;31mSignature:\u001b[0m \u001b[0minput\u001b[0m\u001b[1;33m(\u001b[0m\u001b[0mprompt\u001b[0m\u001b[1;33m=\u001b[0m\u001b[1;34m''\u001b[0m\u001b[1;33m)\u001b[0m\u001b[1;33m\u001b[0m\u001b[1;33m\u001b[0m\u001b[0m\n",
       "\u001b[1;31mDocstring:\u001b[0m\n",
       "Forward raw_input to frontends\n",
       "\n",
       "Raises\n",
       "------\n",
       "StdinNotImplementedError if active frontend doesn't support stdin.\n",
       "\u001b[1;31mFile:\u001b[0m      c:\\users\\pknu\\anaconda3\\lib\\site-packages\\ipykernel\\kernelbase.py\n",
       "\u001b[1;31mType:\u001b[0m      method\n"
      ]
     },
     "metadata": {},
     "output_type": "display_data"
    }
   ],
   "source": [
    "input?"
   ]
  },
  {
   "cell_type": "code",
   "execution_count": 19,
   "id": "7bcc666f-ea5c-486b-b269-22591ad2cdae",
   "metadata": {},
   "outputs": [
    {
     "name": "stdin",
     "output_type": "stream",
     "text": [
      "숫자를 입력하세요 >>> 34\n"
     ]
    }
   ],
   "source": [
    "num1 = input('숫자를 입력하세요 >>>')"
   ]
  },
  {
   "cell_type": "code",
   "execution_count": 20,
   "id": "1cbe8a18-7a57-4b26-90db-771fa5c2cadd",
   "metadata": {},
   "outputs": [
    {
     "data": {
      "text/plain": [
       "str"
      ]
     },
     "execution_count": 20,
     "metadata": {},
     "output_type": "execute_result"
    }
   ],
   "source": [
    "type(num1)"
   ]
  },
  {
   "cell_type": "code",
   "execution_count": 21,
   "id": "08fba0bb-244e-4e59-a60a-32e0802f673b",
   "metadata": {},
   "outputs": [
    {
     "name": "stdout",
     "output_type": "stream",
     "text": [
      "34\n"
     ]
    }
   ],
   "source": [
    "print(num1)"
   ]
  },
  {
   "cell_type": "code",
   "execution_count": 22,
   "id": "a3353ed6-76e2-4326-b65b-26458a7cfa84",
   "metadata": {},
   "outputs": [],
   "source": [
    "# 이거 주석임 ctrl + / 하면 주석 됨\n",
    "# 박스에 과일을 넣는 작업 중입니다.\n",
    "# 박스당 들어가는 과일의 갯수와 전체 과일의 갯수를 입력받아서 몇 박스 몇개가 남는지 출력합니다.\n",
    "# 입력 : 박스당 과일 수 , 전체 과일 수\n",
    "# 출력 : X박스, X개"
   ]
  },
  {
   "cell_type": "code",
   "execution_count": 23,
   "id": "41546b92-53d8-45ac-9959-3daab8ebc320",
   "metadata": {},
   "outputs": [
    {
     "ename": "TypeError",
     "evalue": "raw_input() takes from 1 to 2 positional arguments but 3 were given",
     "output_type": "error",
     "traceback": [
      "\u001b[1;31m---------------------------------------------------------------------------\u001b[0m",
      "\u001b[1;31mTypeError\u001b[0m                                 Traceback (most recent call last)",
      "Input \u001b[1;32mIn [23]\u001b[0m, in \u001b[0;36m<cell line: 1>\u001b[1;34m()\u001b[0m\n\u001b[1;32m----> 1\u001b[0m boxFruit \u001b[38;5;241m=\u001b[39m \u001b[38;5;28;43minput\u001b[39;49m\u001b[43m(\u001b[49m\u001b[38;5;124;43m'\u001b[39;49m\u001b[38;5;124;43m박스당 들어 가는 과일의 갯수\u001b[39;49m\u001b[38;5;124;43m'\u001b[39;49m\u001b[43m,\u001b[49m\u001b[43m \u001b[49m\u001b[38;5;124;43m'\u001b[39;49m\u001b[38;5;124;43m전체 과일의 갯수\u001b[39;49m\u001b[38;5;124;43m'\u001b[39;49m\u001b[43m)\u001b[49m\n",
      "\u001b[1;31mTypeError\u001b[0m: raw_input() takes from 1 to 2 positional arguments but 3 were given"
     ]
    }
   ],
   "source": [
    "boxFruit = input('박스당 들어 가는 과일의 갯수', '전체 과일의 갯수')"
   ]
  },
  {
   "cell_type": "code",
   "execution_count": 29,
   "id": "392d1077-60ec-4bea-a24a-a06edaaf580e",
   "metadata": {},
   "outputs": [
    {
     "name": "stdin",
     "output_type": "stream",
     "text": [
      "박스당 들어 가는 과일의 갯수 :  3\n"
     ]
    }
   ],
   "source": [
    "boxFruit = int(input('박스당 들어 가는 과일의 갯수 : '))"
   ]
  },
  {
   "cell_type": "code",
   "execution_count": 30,
   "id": "31b07a45-4399-446d-ab8e-c5dc50ab0139",
   "metadata": {},
   "outputs": [
    {
     "name": "stdin",
     "output_type": "stream",
     "text": [
      "전체 과일 수 :  5\n"
     ]
    }
   ],
   "source": [
    "fruits = int(input('전체 과일 수 : '))"
   ]
  },
  {
   "cell_type": "code",
   "execution_count": 26,
   "id": "335321fa-7756-48c3-a2a8-0a3f1450c829",
   "metadata": {},
   "outputs": [
    {
     "name": "stdout",
     "output_type": "stream",
     "text": [
      "3 4\n"
     ]
    }
   ],
   "source": [
    "print(boxFruit, fruits)"
   ]
  },
  {
   "cell_type": "code",
   "execution_count": 27,
   "id": "6865de33-5649-4294-b1c4-d746197c9539",
   "metadata": {},
   "outputs": [
    {
     "ename": "TypeError",
     "evalue": "unsupported operand type(s) for /: 'str' and 'str'",
     "output_type": "error",
     "traceback": [
      "\u001b[1;31m---------------------------------------------------------------------------\u001b[0m",
      "\u001b[1;31mTypeError\u001b[0m                                 Traceback (most recent call last)",
      "Input \u001b[1;32mIn [27]\u001b[0m, in \u001b[0;36m<cell line: 1>\u001b[1;34m()\u001b[0m\n\u001b[1;32m----> 1\u001b[0m \u001b[38;5;28mprint\u001b[39m(\u001b[43mfruits\u001b[49m\u001b[38;5;241;43m/\u001b[39;49m\u001b[43mboxFruit\u001b[49m)\n",
      "\u001b[1;31mTypeError\u001b[0m: unsupported operand type(s) for /: 'str' and 'str'"
     ]
    }
   ],
   "source": [
    "print(fruits/boxFruit)"
   ]
  },
  {
   "cell_type": "code",
   "execution_count": 31,
   "id": "c0fd07bf-6335-4fcd-a59f-31a7bfd25fb0",
   "metadata": {},
   "outputs": [
    {
     "name": "stdout",
     "output_type": "stream",
     "text": [
      "1 박스,  2 개\n"
     ]
    }
   ],
   "source": [
    "box = fruits // boxFruit\n",
    "count = fruits % boxFruit\n",
    "print(box, '박스, ', count, '개')"
   ]
  },
  {
   "cell_type": "raw",
   "id": "8e175f9a-283b-4748-89a5-90f544310a1e",
   "metadata": {},
   "source": [
    "string int로 바꾸는 법 : int(string) 숫자로 바꿀 수 있는 형태가 아니면 이거 말고 다른 방법 써야됨"
   ]
  },
  {
   "cell_type": "markdown",
   "id": "4b2cb250-391a-4c0e-8893-6eb33f4aca29",
   "metadata": {},
   "source": [
    "# 문자열 자료형"
   ]
  },
  {
   "cell_type": "code",
   "execution_count": 32,
   "id": "95210964-5792-4f82-9083-964c04832c15",
   "metadata": {},
   "outputs": [
    {
     "data": {
      "text/plain": [
       "\"hello 'ann'\""
      ]
     },
     "execution_count": 32,
     "metadata": {},
     "output_type": "execute_result"
    }
   ],
   "source": [
    "\"hello 'ann'\""
   ]
  },
  {
   "cell_type": "code",
   "execution_count": 33,
   "id": "0accdf57-933e-4db0-a9bf-bddb22aa5bf9",
   "metadata": {},
   "outputs": [
    {
     "data": {
      "text/plain": [
       "'hello \"ann\"'"
      ]
     },
     "execution_count": 33,
     "metadata": {},
     "output_type": "execute_result"
    }
   ],
   "source": [
    "'hello \"ann\"'"
   ]
  },
  {
   "cell_type": "code",
   "execution_count": 34,
   "id": "3643f22a-14a8-4575-9580-9be1d1613127",
   "metadata": {},
   "outputs": [
    {
     "ename": "SyntaxError",
     "evalue": "EOL while scanning string literal (100281834.py, line 1)",
     "output_type": "error",
     "traceback": [
      "\u001b[1;36m  Input \u001b[1;32mIn [34]\u001b[1;36m\u001b[0m\n\u001b[1;33m    \"hello\u001b[0m\n\u001b[1;37m          ^\u001b[0m\n\u001b[1;31mSyntaxError\u001b[0m\u001b[1;31m:\u001b[0m EOL while scanning string literal\n"
     ]
    }
   ],
   "source": [
    "\"hello\n",
    "!!!\""
   ]
  },
  {
   "cell_type": "code",
   "execution_count": 35,
   "id": "6745952a-ea06-438a-8319-e17330bc516e",
   "metadata": {},
   "outputs": [
    {
     "data": {
      "text/plain": [
       "'hello\\n!@!@\\n!@@\\n'"
      ]
     },
     "execution_count": 35,
     "metadata": {},
     "output_type": "execute_result"
    }
   ],
   "source": [
    "'''hello\n",
    "!@!@\n",
    "!@@\n",
    "'''"
   ]
  },
  {
   "cell_type": "raw",
   "id": "373d8f1f-d057-4414-a81e-ced0cb65248f",
   "metadata": {},
   "source": [
    "'''이렇게''' 작은따옴표나 큰 따옴표를 세개 쓰면 줄 바꿈도 가능 에러 안남"
   ]
  },
  {
   "cell_type": "code",
   "execution_count": 36,
   "id": "de0dbaaa-3b7c-41f5-a3ae-19e476db77c3",
   "metadata": {},
   "outputs": [
    {
     "data": {
      "text/plain": [
       "'1a'"
      ]
     },
     "execution_count": 36,
     "metadata": {},
     "output_type": "execute_result"
    }
   ],
   "source": [
    "'1' + 'a'"
   ]
  },
  {
   "cell_type": "raw",
   "id": "146c5e40-6e0e-4c6d-b492-26adcca940d6",
   "metadata": {},
   "source": [
    "문자 + 문자끼리 더할 수 있다. 곱하기도 됨 '문자열'*숫자 -> 문자열을 숫자만큼 보여줘"
   ]
  },
  {
   "cell_type": "code",
   "execution_count": 37,
   "id": "be17e6f9-70b2-4e4a-bf40-08e61e52d94a",
   "metadata": {},
   "outputs": [
    {
     "data": {
      "text/plain": [
       "'메롱메롱메롱'"
      ]
     },
     "execution_count": 37,
     "metadata": {},
     "output_type": "execute_result"
    }
   ],
   "source": [
    "'메롱'*3"
   ]
  },
  {
   "cell_type": "code",
   "execution_count": 38,
   "id": "c4f7df59-d410-4416-9e2e-afe68245e721",
   "metadata": {},
   "outputs": [
    {
     "data": {
      "text/plain": [
       "17"
      ]
     },
     "execution_count": 38,
     "metadata": {},
     "output_type": "execute_result"
    }
   ],
   "source": [
    "a = 'life is too short'\n",
    "len(a)"
   ]
  },
  {
   "cell_type": "code",
   "execution_count": 40,
   "id": "422b3082-6d7f-455c-8a88-76e2c66f9957",
   "metadata": {},
   "outputs": [
    {
     "data": {
      "text/plain": [
       "'Life is too short, You need Python'"
      ]
     },
     "execution_count": 40,
     "metadata": {},
     "output_type": "execute_result"
    }
   ],
   "source": [
    "a = 'Life is too short, You need Python'\n",
    "a"
   ]
  },
  {
   "cell_type": "code",
   "execution_count": 41,
   "id": "d523e2cf-4345-4c5a-b557-a7123397a134",
   "metadata": {},
   "outputs": [
    {
     "data": {
      "text/plain": [
       "'Lif'"
      ]
     },
     "execution_count": 41,
     "metadata": {},
     "output_type": "execute_result"
    }
   ],
   "source": [
    "a[0:3]"
   ]
  },
  {
   "cell_type": "code",
   "execution_count": 42,
   "id": "0b73241e-a4f5-4766-a330-ed9d13fb4d99",
   "metadata": {},
   "outputs": [
    {
     "data": {
      "text/plain": [
       "'Life'"
      ]
     },
     "execution_count": 42,
     "metadata": {},
     "output_type": "execute_result"
    }
   ],
   "source": [
    "a[0:4]"
   ]
  },
  {
   "cell_type": "code",
   "execution_count": 43,
   "id": "3eea375e-487f-4452-b0a7-0e6bfb8bb9b6",
   "metadata": {},
   "outputs": [
    {
     "data": {
      "text/plain": [
       "'Life'"
      ]
     },
     "execution_count": 43,
     "metadata": {},
     "output_type": "execute_result"
    }
   ],
   "source": [
    "a[:4]"
   ]
  },
  {
   "cell_type": "code",
   "execution_count": 44,
   "id": "a212b2d6-f402-4aaa-ad42-7426b0680755",
   "metadata": {},
   "outputs": [
    {
     "data": {
      "text/plain": [
       "'Python'"
      ]
     },
     "execution_count": 44,
     "metadata": {},
     "output_type": "execute_result"
    }
   ],
   "source": [
    "a[-6:]"
   ]
  },
  {
   "cell_type": "code",
   "execution_count": 45,
   "id": "8277ecd7-3452-4445-9e5d-ea0322b4fdac",
   "metadata": {},
   "outputs": [],
   "source": [
    "# 주민등록 번호를 입력 받아서 생년월일과 성별을 출력하세요\n",
    "# 3항 연산자 활용 -> 조건 ? 참일때 : 거짓일때 [true_value] if [condition] else [false_value]"
   ]
  },
  {
   "cell_type": "code",
   "execution_count": 47,
   "id": "5f63c09d-b08a-45d7-936c-0f3a560c3ed4",
   "metadata": {},
   "outputs": [
    {
     "name": "stdin",
     "output_type": "stream",
     "text": [
      "주민등록번호를 입력 하세요 :  9504032000000\n"
     ]
    },
    {
     "data": {
      "text/plain": [
       "['남자']"
      ]
     },
     "execution_count": 47,
     "metadata": {},
     "output_type": "execute_result"
    }
   ],
   "source": [
    "personID = input('주민등록번호를 입력 하세요 : ')\n",
    "['여자'] if personID[6] ==2 else ['남자']"
   ]
  },
  {
   "cell_type": "code",
   "execution_count": 48,
   "id": "464bfdec-2fe9-44c3-8c6e-a9e09162dbad",
   "metadata": {},
   "outputs": [
    {
     "name": "stdin",
     "output_type": "stream",
     "text": [
      "주민등록번호 입력 >>> 200302-3123482\n"
     ]
    },
    {
     "name": "stdout",
     "output_type": "stream",
     "text": [
      "생년월일 200302\n",
      "성별 남자\n"
     ]
    }
   ],
   "source": [
    "jumin = input('주민등록번호 입력 >>>')\n",
    "print('생년월일', jumin[:6])\n",
    "print('성별', '남자' if jumin[7]=='3' else '여자')"
   ]
  },
  {
   "cell_type": "code",
   "execution_count": null,
   "id": "35f3e252-4168-4615-9906-114be66035ae",
   "metadata": {},
   "outputs": [],
   "source": []
  }
 ],
 "metadata": {
  "kernelspec": {
   "display_name": "Python 3 (ipykernel)",
   "language": "python",
   "name": "python3"
  },
  "language_info": {
   "codemirror_mode": {
    "name": "ipython",
    "version": 3
   },
   "file_extension": ".py",
   "mimetype": "text/x-python",
   "name": "python",
   "nbconvert_exporter": "python",
   "pygments_lexer": "ipython3",
   "version": "3.9.12"
  }
 },
 "nbformat": 4,
 "nbformat_minor": 5
}
