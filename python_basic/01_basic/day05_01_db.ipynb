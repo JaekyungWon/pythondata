{
 "cells": [
  {
   "cell_type": "raw",
   "id": "85201897-0f33-4363-a6a1-5cc9a8538c67",
   "metadata": {},
   "source": [
    "map(f, iterable) : 함수(f)와 반복 가능한 자료형(iterable->list,dictionary,tuple)을 입력으로 받아 결과를 돌려주는 함수"
   ]
  },
  {
   "cell_type": "code",
   "execution_count": 1,
   "id": "3d3086ea-9298-44bf-a90a-b45b61b8cc01",
   "metadata": {},
   "outputs": [],
   "source": [
    "def two_times(numberList):\n",
    "    result = []\n",
    "    for number in numberList:\n",
    "        result.append(number*2)\n",
    "    return result"
   ]
  },
  {
   "cell_type": "code",
   "execution_count": 2,
   "id": "9f1c05d6-61f1-4dd5-aa3b-0999c588e280",
   "metadata": {},
   "outputs": [],
   "source": [
    "numberList = [1,2,3,4,5]"
   ]
  },
  {
   "cell_type": "code",
   "execution_count": 3,
   "id": "e3234813-7a3c-4131-a4ef-6819dd45b5d3",
   "metadata": {},
   "outputs": [
    {
     "data": {
      "text/plain": [
       "[2, 4, 6, 8, 10]"
      ]
     },
     "execution_count": 3,
     "metadata": {},
     "output_type": "execute_result"
    }
   ],
   "source": [
    "two_times(numberList)"
   ]
  },
  {
   "cell_type": "code",
   "execution_count": 5,
   "id": "b25ae06f-6b4c-4c36-8b65-24c26abca2c6",
   "metadata": {},
   "outputs": [],
   "source": [
    "def two_times(x):\n",
    "    return x*2\n",
    "# 데이터 하나에 대한 처리"
   ]
  },
  {
   "cell_type": "code",
   "execution_count": 8,
   "id": "dff0ea5b-3868-4527-9ca5-417e0c9c92c8",
   "metadata": {},
   "outputs": [
    {
     "data": {
      "text/plain": [
       "[2, 4, 6, 8, 10]"
      ]
     },
     "execution_count": 8,
     "metadata": {},
     "output_type": "execute_result"
    }
   ],
   "source": [
    "# map개체는 눈으로 안보임 -> <map at 0x1cff6ba9220> 이런식으로 나온다 \n",
    "list(map(two_times,numberList))    #그래서 list로 감싸주면 됨"
   ]
  },
  {
   "cell_type": "code",
   "execution_count": 10,
   "id": "e7c90b10-c928-4e9f-912c-4bfa609de5e7",
   "metadata": {},
   "outputs": [],
   "source": [
    "names = ['홍길동', '철수', '나리']\n",
    "# 결과 : 안녕하세요! 00000 고객님~"
   ]
  },
  {
   "cell_type": "code",
   "execution_count": 14,
   "id": "60279995-e904-4f0e-9782-74751860d350",
   "metadata": {},
   "outputs": [],
   "source": [
    "def greeting(x):\n",
    "    return '안녕하세요! ' + x + ' 고객님~'"
   ]
  },
  {
   "cell_type": "code",
   "execution_count": 15,
   "id": "a8efb468-afa0-43b5-ad3a-707332e42fa2",
   "metadata": {},
   "outputs": [
    {
     "data": {
      "text/plain": [
       "['안녕하세요! 홍길동 고객님~', '안녕하세요! 철수 고객님~', '안녕하세요! 나리 고객님~']"
      ]
     },
     "execution_count": 15,
     "metadata": {},
     "output_type": "execute_result"
    }
   ],
   "source": [
    "list(map(greeting,names))"
   ]
  },
  {
   "cell_type": "code",
   "execution_count": 18,
   "id": "d31e701f-01cf-4e8d-892b-05db051cd2d6",
   "metadata": {},
   "outputs": [],
   "source": [
    "names = ['홍길동', '철수', '나리']\n",
    "scores = [40,50,23]\n",
    "socre1 = [50,65,30]"
   ]
  },
  {
   "cell_type": "code",
   "execution_count": 19,
   "id": "290f1834-b790-419a-8121-ee67e5f31b26",
   "metadata": {},
   "outputs": [
    {
     "data": {
      "text/plain": [
       "[('홍길동', 40), ('철수', 50), ('나리', 23)]"
      ]
     },
     "execution_count": 19,
     "metadata": {},
     "output_type": "execute_result"
    }
   ],
   "source": [
    "#zip : 동일한 갯수로 이루어진 자료형을 묶어주는 역할을 하는 함수 \n",
    "list(zip(names,scores))         #zip도 눈에 안보여서 list로 감싸줘야됨"
   ]
  },
  {
   "cell_type": "code",
   "execution_count": 20,
   "id": "dadf4a08-1b98-4bee-bf05-15a96b09262a",
   "metadata": {},
   "outputs": [
    {
     "data": {
      "text/plain": [
       "[('홍길동', 40, 50), ('철수', 50, 65), ('나리', 23, 30)]"
      ]
     },
     "execution_count": 20,
     "metadata": {},
     "output_type": "execute_result"
    }
   ],
   "source": [
    "list(zip(names,scores,socre1))"
   ]
  },
  {
   "cell_type": "code",
   "execution_count": null,
   "id": "e477c3dd-de97-4e7c-852d-b806bd9a1d30",
   "metadata": {},
   "outputs": [],
   "source": []
  }
 ],
 "metadata": {
  "kernelspec": {
   "display_name": "Python 3 (ipykernel)",
   "language": "python",
   "name": "python3"
  },
  "language_info": {
   "codemirror_mode": {
    "name": "ipython",
    "version": 3
   },
   "file_extension": ".py",
   "mimetype": "text/x-python",
   "name": "python",
   "nbconvert_exporter": "python",
   "pygments_lexer": "ipython3",
   "version": "3.9.12"
  }
 },
 "nbformat": 4,
 "nbformat_minor": 5
}
