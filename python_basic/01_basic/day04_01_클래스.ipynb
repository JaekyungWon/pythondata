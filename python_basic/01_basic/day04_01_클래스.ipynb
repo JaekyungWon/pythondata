{
 "cells": [
  {
   "cell_type": "code",
   "execution_count": 24,
   "id": "36b7bf2c-ebc5-47c4-a791-d89068996701",
   "metadata": {},
   "outputs": [],
   "source": [
    "class FourCal :\n",
    "    def setdata(self, first, second): \n",
    "        #python매서드의 첫번째 인자는 python이 쓰기때문에 self(나 다른이름 가능)라고 선언할 것. 선언만하고 없는 것 처럼 쓰면 된다. 주솟값을 받아서 쓰는 용도\n",
    "        #self.first, self.second는 인스턴스 변수\n",
    "        self.first = first\n",
    "        self.second = second\n",
    "    def add(self):\n",
    "        result = self.first+self.second\n",
    "        return result"
   ]
  },
  {
   "cell_type": "code",
   "execution_count": 25,
   "id": "4b217b35-2d7d-4050-9369-82f06ce2930b",
   "metadata": {},
   "outputs": [],
   "source": [
    "a = FourCal()"
   ]
  },
  {
   "cell_type": "code",
   "execution_count": 14,
   "id": "b667299d-d7f5-43a3-a954-69f85de50515",
   "metadata": {},
   "outputs": [
    {
     "data": {
      "text/plain": [
       "__main__.FourCal"
      ]
     },
     "execution_count": 14,
     "metadata": {},
     "output_type": "execute_result"
    }
   ],
   "source": [
    "type(a)"
   ]
  },
  {
   "cell_type": "code",
   "execution_count": 15,
   "id": "3464210e-f003-4939-8dc0-cdb12dd9935e",
   "metadata": {},
   "outputs": [],
   "source": [
    "a.setdata(2,5)"
   ]
  },
  {
   "cell_type": "code",
   "execution_count": 16,
   "id": "a31d21a0-587f-4c3c-872d-c2116437c9bd",
   "metadata": {},
   "outputs": [
    {
     "data": {
      "text/plain": [
       "2"
      ]
     },
     "execution_count": 16,
     "metadata": {},
     "output_type": "execute_result"
    }
   ],
   "source": [
    "a.first"
   ]
  },
  {
   "cell_type": "code",
   "execution_count": 17,
   "id": "15ed3810-7b21-47a4-a69f-c29f9cdfbf75",
   "metadata": {},
   "outputs": [
    {
     "data": {
      "text/plain": [
       "5"
      ]
     },
     "execution_count": 17,
     "metadata": {},
     "output_type": "execute_result"
    }
   ],
   "source": [
    "a.second"
   ]
  },
  {
   "cell_type": "code",
   "execution_count": 19,
   "id": "a6eedd96-fe77-4152-b026-9e4f1b0f9a3e",
   "metadata": {},
   "outputs": [
    {
     "data": {
      "text/plain": [
       "6"
      ]
     },
     "execution_count": 19,
     "metadata": {},
     "output_type": "execute_result"
    }
   ],
   "source": [
    "a.first = 6\n",
    "a.first"
   ]
  },
  {
   "cell_type": "code",
   "execution_count": 20,
   "id": "b7da94a1-44fc-411c-9a2b-bbb6405ba383",
   "metadata": {},
   "outputs": [],
   "source": [
    "b = FourCal()"
   ]
  },
  {
   "cell_type": "code",
   "execution_count": 21,
   "id": "af7239c6-9f41-4bd9-807c-82494bd0503e",
   "metadata": {},
   "outputs": [
    {
     "ename": "AttributeError",
     "evalue": "'FourCal' object has no attribute 'first'",
     "output_type": "error",
     "traceback": [
      "\u001b[1;31m---------------------------------------------------------------------------\u001b[0m",
      "\u001b[1;31mAttributeError\u001b[0m                            Traceback (most recent call last)",
      "Input \u001b[1;32mIn [21]\u001b[0m, in \u001b[0;36m<cell line: 1>\u001b[1;34m()\u001b[0m\n\u001b[1;32m----> 1\u001b[0m \u001b[43mb\u001b[49m\u001b[38;5;241;43m.\u001b[39;49m\u001b[43mfirst\u001b[49m\n",
      "\u001b[1;31mAttributeError\u001b[0m: 'FourCal' object has no attribute 'first'"
     ]
    }
   ],
   "source": [
    "b.first"
   ]
  },
  {
   "cell_type": "code",
   "execution_count": 22,
   "id": "98888a09-5473-473a-9607-baa88bb9bb80",
   "metadata": {},
   "outputs": [],
   "source": [
    "b.setdata(9,0)"
   ]
  },
  {
   "cell_type": "code",
   "execution_count": 23,
   "id": "52620da3-b202-4f01-b32d-3a2d2566b0c6",
   "metadata": {},
   "outputs": [
    {
     "data": {
      "text/plain": [
       "0"
      ]
     },
     "execution_count": 23,
     "metadata": {},
     "output_type": "execute_result"
    }
   ],
   "source": [
    "b.second"
   ]
  },
  {
   "cell_type": "code",
   "execution_count": 26,
   "id": "e0b8b05c-18d5-4c92-aedf-25fd16d2ebfd",
   "metadata": {},
   "outputs": [
    {
     "data": {
      "text/plain": [
       "<__main__.FourCal at 0x26615f2ceb0>"
      ]
     },
     "execution_count": 26,
     "metadata": {},
     "output_type": "execute_result"
    }
   ],
   "source": [
    "a"
   ]
  },
  {
   "cell_type": "code",
   "execution_count": 28,
   "id": "4ecf83c4-2825-4da5-8731-2866695fb428",
   "metadata": {},
   "outputs": [],
   "source": [
    "a.setdata(4,8)"
   ]
  },
  {
   "cell_type": "code",
   "execution_count": 29,
   "id": "c396afc3-ea6b-4d82-b9b9-ff9784dc35f8",
   "metadata": {},
   "outputs": [
    {
     "data": {
      "text/plain": [
       "4"
      ]
     },
     "execution_count": 29,
     "metadata": {},
     "output_type": "execute_result"
    }
   ],
   "source": [
    "a.first"
   ]
  },
  {
   "cell_type": "code",
   "execution_count": 31,
   "id": "a80174a6-8e75-4bc2-854b-73a2bc16a03e",
   "metadata": {},
   "outputs": [
    {
     "data": {
      "text/plain": [
       "12"
      ]
     },
     "execution_count": 31,
     "metadata": {},
     "output_type": "execute_result"
    }
   ],
   "source": [
    "result = a.add()\n",
    "result"
   ]
  },
  {
   "cell_type": "code",
   "execution_count": 35,
   "id": "082dab6e-e3a8-4a33-baa0-bbe9ada2f4b7",
   "metadata": {},
   "outputs": [],
   "source": [
    "class FourCal :\n",
    "    def setdata(self, first, second):\n",
    "        self.first = first\n",
    "        self.second = second\n",
    "    def add(self):\n",
    "        result = self.first+self.second\n",
    "        return result\n",
    "#   __init__는 생성자 : 객체 인스턴스할때 자동으로 호출되는 메서드\n",
    "    def __init__(self,first=0,second=0):       #default값을 줘서 객체 인스턴스화 할때 초깃값을 세팅할 수 있다\n",
    "        self.first = first\n",
    "        self.second = second"
   ]
  },
  {
   "cell_type": "code",
   "execution_count": 36,
   "id": "5e770ed9-f56b-41a8-ae13-0afbe80d1c26",
   "metadata": {},
   "outputs": [
    {
     "data": {
      "text/plain": [
       "0"
      ]
     },
     "execution_count": 36,
     "metadata": {},
     "output_type": "execute_result"
    }
   ],
   "source": [
    "b = FourCal()\n",
    "b.first"
   ]
  },
  {
   "cell_type": "code",
   "execution_count": 37,
   "id": "617fb1c0-7091-4925-aac5-be024b288a11",
   "metadata": {},
   "outputs": [],
   "source": [
    "c = FourCal(5)"
   ]
  },
  {
   "cell_type": "code",
   "execution_count": 38,
   "id": "6ccbbe69-4393-4e23-bf3e-7b8c6197087d",
   "metadata": {},
   "outputs": [
    {
     "data": {
      "text/plain": [
       "5"
      ]
     },
     "execution_count": 38,
     "metadata": {},
     "output_type": "execute_result"
    }
   ],
   "source": [
    "c.first"
   ]
  },
  {
   "cell_type": "code",
   "execution_count": 39,
   "id": "46ad818e-dc2f-4893-9ac4-cc7d0ff7dc9a",
   "metadata": {},
   "outputs": [
    {
     "data": {
      "text/plain": [
       "0"
      ]
     },
     "execution_count": 39,
     "metadata": {},
     "output_type": "execute_result"
    }
   ],
   "source": [
    "c.second"
   ]
  },
  {
   "cell_type": "code",
   "execution_count": 40,
   "id": "c61a1f13-7bd5-4224-8537-abdc22544daa",
   "metadata": {},
   "outputs": [],
   "source": [
    "d = FourCal(second=4)"
   ]
  },
  {
   "cell_type": "code",
   "execution_count": 41,
   "id": "46fc8b4c-5909-4cac-8812-049b75bdfd54",
   "metadata": {},
   "outputs": [
    {
     "data": {
      "text/plain": [
       "4"
      ]
     },
     "execution_count": 41,
     "metadata": {},
     "output_type": "execute_result"
    }
   ],
   "source": [
    "d.second"
   ]
  },
  {
   "cell_type": "code",
   "execution_count": 43,
   "id": "fef487bb-2f0f-465f-9460-409b8f803d20",
   "metadata": {},
   "outputs": [],
   "source": [
    "# 클래스 상속은 : 클래스이름(상속받을클래스)로 하면 됨. 다중 상속 가능\n",
    "class PrintFourCal:\n",
    "    def data_print(self):\n",
    "        print('data')\n",
    "class MoreFourCal(FourCal,PrintFourCal) :\n",
    "    pass"
   ]
  },
  {
   "cell_type": "code",
   "execution_count": 45,
   "id": "82f18ea1-2b58-41d0-b172-9da504818c97",
   "metadata": {},
   "outputs": [],
   "source": [
    "call = MoreFourCal()"
   ]
  },
  {
   "cell_type": "code",
   "execution_count": 46,
   "id": "6cba4718-2b23-486a-8d28-1a7b72ccb0c9",
   "metadata": {},
   "outputs": [
    {
     "data": {
      "text/plain": [
       "0"
      ]
     },
     "execution_count": 46,
     "metadata": {},
     "output_type": "execute_result"
    }
   ],
   "source": [
    "call.first"
   ]
  },
  {
   "cell_type": "code",
   "execution_count": 47,
   "id": "e087982e-8cfc-47bd-a769-5a6c175c6b65",
   "metadata": {},
   "outputs": [
    {
     "data": {
      "text/plain": [
       "0"
      ]
     },
     "execution_count": 47,
     "metadata": {},
     "output_type": "execute_result"
    }
   ],
   "source": [
    "call.second"
   ]
  },
  {
   "cell_type": "code",
   "execution_count": 48,
   "id": "a276e3e0-cdcd-4eb2-9579-4d8ec73b0fe1",
   "metadata": {},
   "outputs": [
    {
     "name": "stdout",
     "output_type": "stream",
     "text": [
      "data\n"
     ]
    }
   ],
   "source": [
    "call.data_print()"
   ]
  },
  {
   "cell_type": "code",
   "execution_count": 56,
   "id": "8c82bf91-aa9b-4735-b058-dd2ef8b68a26",
   "metadata": {},
   "outputs": [],
   "source": [
    "# 상속받은 클래스 overriding도 할 수 있음 자바랑 같은 개념\n",
    "class OverCal(FourCal):\n",
    "    lastname = '김'\n",
    "    def add(self, first=9, second=3):\n",
    "        print('add')\n",
    "        self.first = first\n",
    "        self.second = second\n",
    "        return self.first + self.second"
   ]
  },
  {
   "cell_type": "code",
   "execution_count": 57,
   "id": "6f8c7e43-94fc-4c0e-b9b7-d3ae41695542",
   "metadata": {},
   "outputs": [],
   "source": [
    "c= OverCal()"
   ]
  },
  {
   "cell_type": "code",
   "execution_count": 58,
   "id": "2982063c-99e0-4cf3-9e39-0a823e519954",
   "metadata": {},
   "outputs": [
    {
     "name": "stdout",
     "output_type": "stream",
     "text": [
      "add\n"
     ]
    },
    {
     "data": {
      "text/plain": [
       "12"
      ]
     },
     "execution_count": 58,
     "metadata": {},
     "output_type": "execute_result"
    }
   ],
   "source": [
    "c.add()"
   ]
  },
  {
   "cell_type": "code",
   "execution_count": 59,
   "id": "03deeaf4-eb12-4cb7-85d0-82238111b07a",
   "metadata": {},
   "outputs": [
    {
     "data": {
      "text/plain": [
       "'김'"
      ]
     },
     "execution_count": 59,
     "metadata": {},
     "output_type": "execute_result"
    }
   ],
   "source": [
    "OverCal.lastname"
   ]
  },
  {
   "cell_type": "code",
   "execution_count": 60,
   "id": "9886c150-b80d-42e4-9fc5-02899880ce9b",
   "metadata": {},
   "outputs": [
    {
     "data": {
      "text/plain": [
       "'김'"
      ]
     },
     "execution_count": 60,
     "metadata": {},
     "output_type": "execute_result"
    }
   ],
   "source": [
    "c.lastname"
   ]
  },
  {
   "cell_type": "code",
   "execution_count": 61,
   "id": "0dab9c59-f38a-40c1-a908-b0b05667e531",
   "metadata": {},
   "outputs": [],
   "source": [
    "c1 = OverCal()"
   ]
  },
  {
   "cell_type": "code",
   "execution_count": 62,
   "id": "c6f9b5d0-e966-4333-a1b0-07d35fe2720a",
   "metadata": {},
   "outputs": [
    {
     "data": {
      "text/plain": [
       "'김'"
      ]
     },
     "execution_count": 62,
     "metadata": {},
     "output_type": "execute_result"
    }
   ],
   "source": [
    "c1.lastname"
   ]
  },
  {
   "cell_type": "code",
   "execution_count": 63,
   "id": "d209b9b8-8ad0-4bb8-9b9e-22adb369e2a4",
   "metadata": {},
   "outputs": [],
   "source": [
    "OverCal.lastname = '박'"
   ]
  },
  {
   "cell_type": "code",
   "execution_count": 64,
   "id": "fd8bf149-b5b2-4549-be97-8c1cf6591cad",
   "metadata": {},
   "outputs": [
    {
     "data": {
      "text/plain": [
       "'박'"
      ]
     },
     "execution_count": 64,
     "metadata": {},
     "output_type": "execute_result"
    }
   ],
   "source": [
    "c1.lastname"
   ]
  },
  {
   "cell_type": "code",
   "execution_count": 65,
   "id": "5e184df9-5de9-4c43-afc9-ff910a9fe991",
   "metadata": {},
   "outputs": [
    {
     "data": {
      "text/plain": [
       "'박'"
      ]
     },
     "execution_count": 65,
     "metadata": {},
     "output_type": "execute_result"
    }
   ],
   "source": [
    "c.lastname"
   ]
  },
  {
   "cell_type": "raw",
   "id": "a1375b4f-1f93-4b55-96ae-34bddbdf1fd4",
   "metadata": {},
   "source": [
    "class"
   ]
  },
  {
   "cell_type": "code",
   "execution_count": null,
   "id": "696d31ee-2296-4802-afc7-585d15a59e3a",
   "metadata": {},
   "outputs": [],
   "source": []
  }
 ],
 "metadata": {
  "kernelspec": {
   "display_name": "Python 3 (ipykernel)",
   "language": "python",
   "name": "python3"
  },
  "language_info": {
   "codemirror_mode": {
    "name": "ipython",
    "version": 3
   },
   "file_extension": ".py",
   "mimetype": "text/x-python",
   "name": "python",
   "nbconvert_exporter": "python",
   "pygments_lexer": "ipython3",
   "version": "3.9.12"
  }
 },
 "nbformat": 4,
 "nbformat_minor": 5
}
