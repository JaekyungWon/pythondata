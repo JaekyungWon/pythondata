{
 "cells": [
  {
   "cell_type": "raw",
   "id": "73e1c19a-0d0b-49c8-9795-8e0e16ac72fb",
   "metadata": {},
   "source": [
    "1. 리스트형"
   ]
  },
  {
   "cell_type": "code",
   "execution_count": 1,
   "id": "b487158f-dc64-46c4-9f3c-740ab5c81482",
   "metadata": {},
   "outputs": [],
   "source": [
    "odd = [1,3,5,7,9]\n",
    "# 리스트에는 아무거나 다 담을 수 있다. 숫자, 문자, 리스트 자체 등"
   ]
  },
  {
   "cell_type": "code",
   "execution_count": 2,
   "id": "332365a4-5324-4f0d-977e-6865a9412191",
   "metadata": {},
   "outputs": [
    {
     "data": {
      "text/plain": [
       "[1, 3, 5, 7, 9]"
      ]
     },
     "execution_count": 2,
     "metadata": {},
     "output_type": "execute_result"
    }
   ],
   "source": [
    "odd"
   ]
  },
  {
   "cell_type": "code",
   "execution_count": 3,
   "id": "0dd51095-5466-4570-8784-5c01dfeddab2",
   "metadata": {},
   "outputs": [
    {
     "data": {
      "text/plain": [
       "1"
      ]
     },
     "execution_count": 3,
     "metadata": {},
     "output_type": "execute_result"
    }
   ],
   "source": [
    "odd[0]"
   ]
  },
  {
   "cell_type": "code",
   "execution_count": 4,
   "id": "606d2fa0-0db8-4489-ab82-f58c9e9f0019",
   "metadata": {},
   "outputs": [
    {
     "name": "stdout",
     "output_type": "stream",
     "text": [
      "1\n",
      "3\n",
      "5\n",
      "7\n",
      "9\n"
     ]
    }
   ],
   "source": [
    "for i in odd:\n",
    "        print(i)"
   ]
  },
  {
   "cell_type": "code",
   "execution_count": 5,
   "id": "53815fe5-402a-4914-84ab-ef6502d86e14",
   "metadata": {},
   "outputs": [],
   "source": [
    "a = [1,2,3,['a','b','c']]"
   ]
  },
  {
   "cell_type": "code",
   "execution_count": 6,
   "id": "bbc84350-98a7-4db9-a574-31a86e2ec2b4",
   "metadata": {},
   "outputs": [
    {
     "data": {
      "text/plain": [
       "'b'"
      ]
     },
     "execution_count": 6,
     "metadata": {},
     "output_type": "execute_result"
    }
   ],
   "source": [
    "a[3][1]"
   ]
  },
  {
   "cell_type": "code",
   "execution_count": 7,
   "id": "cce4d68c-4025-406d-b2e0-27df892d4b77",
   "metadata": {},
   "outputs": [
    {
     "data": {
      "text/plain": [
       "[2, 3]"
      ]
     },
     "execution_count": 7,
     "metadata": {},
     "output_type": "execute_result"
    }
   ],
   "source": [
    "a[1:3]"
   ]
  },
  {
   "cell_type": "code",
   "execution_count": 8,
   "id": "11325749-650c-4f0e-b75c-1035305b161d",
   "metadata": {},
   "outputs": [
    {
     "data": {
      "text/plain": [
       "4"
      ]
     },
     "execution_count": 8,
     "metadata": {},
     "output_type": "execute_result"
    }
   ],
   "source": [
    "len(a)"
   ]
  },
  {
   "cell_type": "code",
   "execution_count": 10,
   "id": "86a41922-abf7-4e3a-8217-a901e4918344",
   "metadata": {},
   "outputs": [],
   "source": [
    "a[3]='abc'"
   ]
  },
  {
   "cell_type": "code",
   "execution_count": 11,
   "id": "7055acd9-3dec-402e-a35a-eda98a1285c9",
   "metadata": {},
   "outputs": [
    {
     "data": {
      "text/plain": [
       "[1, 2, 3, 'abc']"
      ]
     },
     "execution_count": 11,
     "metadata": {},
     "output_type": "execute_result"
    }
   ],
   "source": [
    "a"
   ]
  },
  {
   "cell_type": "code",
   "execution_count": 12,
   "id": "7de5d9b4-da4f-44ee-881b-6604c48fa06b",
   "metadata": {},
   "outputs": [],
   "source": [
    "del a[1]"
   ]
  },
  {
   "cell_type": "code",
   "execution_count": 13,
   "id": "8aad7f95-e64f-4f20-b816-50be1d304c04",
   "metadata": {},
   "outputs": [
    {
     "data": {
      "text/plain": [
       "[1, 3, 'abc']"
      ]
     },
     "execution_count": 13,
     "metadata": {},
     "output_type": "execute_result"
    }
   ],
   "source": [
    "a"
   ]
  },
  {
   "cell_type": "code",
   "execution_count": 14,
   "id": "15797905-d185-4a28-8408-d816e383bedb",
   "metadata": {},
   "outputs": [],
   "source": [
    "del a"
   ]
  },
  {
   "cell_type": "code",
   "execution_count": 15,
   "id": "4fbb3d38-d249-494a-a4f0-a1b3ff1f99ca",
   "metadata": {},
   "outputs": [
    {
     "ename": "NameError",
     "evalue": "name 'a' is not defined",
     "output_type": "error",
     "traceback": [
      "\u001b[1;31m---------------------------------------------------------------------------\u001b[0m",
      "\u001b[1;31mNameError\u001b[0m                                 Traceback (most recent call last)",
      "Input \u001b[1;32mIn [15]\u001b[0m, in \u001b[0;36m<cell line: 1>\u001b[1;34m()\u001b[0m\n\u001b[1;32m----> 1\u001b[0m \u001b[43ma\u001b[49m\n",
      "\u001b[1;31mNameError\u001b[0m: name 'a' is not defined"
     ]
    }
   ],
   "source": [
    "a"
   ]
  },
  {
   "cell_type": "code",
   "execution_count": 16,
   "id": "d4c68b45-1a6e-4f62-86e5-790e79e8a9f8",
   "metadata": {},
   "outputs": [
    {
     "data": {
      "text/plain": [
       "[1, 2, 3, 4]"
      ]
     },
     "execution_count": 16,
     "metadata": {},
     "output_type": "execute_result"
    }
   ],
   "source": [
    "a = [1,2,3]\n",
    "a.append(4)\n",
    "a"
   ]
  },
  {
   "cell_type": "code",
   "execution_count": 17,
   "id": "b0d2ea20-4df5-4527-8bd5-ba15c49a047d",
   "metadata": {},
   "outputs": [],
   "source": [
    "a.append(5)"
   ]
  },
  {
   "cell_type": "code",
   "execution_count": 18,
   "id": "694dffc5-5932-4042-9197-9089fb0bae0e",
   "metadata": {},
   "outputs": [
    {
     "data": {
      "text/plain": [
       "[1, 2, 3, 4, 5]"
      ]
     },
     "execution_count": 18,
     "metadata": {},
     "output_type": "execute_result"
    }
   ],
   "source": [
    "a"
   ]
  },
  {
   "cell_type": "code",
   "execution_count": 19,
   "id": "d8881c11-da31-4886-b6e3-6dbc02e8733f",
   "metadata": {},
   "outputs": [],
   "source": [
    "a = [1,4,3,2]"
   ]
  },
  {
   "cell_type": "code",
   "execution_count": 20,
   "id": "cdecbe5a-7ab5-4b7b-812d-3455c6aceb11",
   "metadata": {},
   "outputs": [],
   "source": [
    "a.sort()"
   ]
  },
  {
   "cell_type": "code",
   "execution_count": 21,
   "id": "92780b7b-0694-478c-a91b-061600f6a8eb",
   "metadata": {},
   "outputs": [
    {
     "data": {
      "text/plain": [
       "[1, 2, 3, 4]"
      ]
     },
     "execution_count": 21,
     "metadata": {},
     "output_type": "execute_result"
    }
   ],
   "source": [
    "a"
   ]
  },
  {
   "cell_type": "code",
   "execution_count": 22,
   "id": "3eba8ff6-b5ab-439b-8cea-d79462f639dd",
   "metadata": {},
   "outputs": [],
   "source": [
    "a.sort(reverse=True)"
   ]
  },
  {
   "cell_type": "code",
   "execution_count": 23,
   "id": "56e8780d-82b8-4754-9bcc-687397b2caf6",
   "metadata": {},
   "outputs": [
    {
     "data": {
      "text/plain": [
       "[4, 3, 2, 1]"
      ]
     },
     "execution_count": 23,
     "metadata": {},
     "output_type": "execute_result"
    }
   ],
   "source": [
    "a"
   ]
  },
  {
   "cell_type": "code",
   "execution_count": 24,
   "id": "f120b601-1ed0-4906-9a74-38ccef044a19",
   "metadata": {},
   "outputs": [
    {
     "data": {
      "text/plain": [
       "3"
      ]
     },
     "execution_count": 24,
     "metadata": {},
     "output_type": "execute_result"
    }
   ],
   "source": [
    "a.index(1)"
   ]
  },
  {
   "cell_type": "code",
   "execution_count": 25,
   "id": "647c16d7-a7d7-493e-b13c-7031f70222d9",
   "metadata": {},
   "outputs": [],
   "source": [
    "a.insert(0,0)"
   ]
  },
  {
   "cell_type": "code",
   "execution_count": 26,
   "id": "bb6837cc-bb46-4a25-8576-d310dbf60d39",
   "metadata": {},
   "outputs": [
    {
     "data": {
      "text/plain": [
       "[0, 4, 3, 2, 1]"
      ]
     },
     "execution_count": 26,
     "metadata": {},
     "output_type": "execute_result"
    }
   ],
   "source": [
    "a"
   ]
  },
  {
   "cell_type": "code",
   "execution_count": 27,
   "id": "9e1783d8-69a8-4d71-b41b-132fa3a923c3",
   "metadata": {},
   "outputs": [],
   "source": [
    "del a[2]\n",
    "a.remove(1)"
   ]
  },
  {
   "cell_type": "code",
   "execution_count": 28,
   "id": "445d86a4-6722-4504-8b9d-33e7d5738037",
   "metadata": {},
   "outputs": [
    {
     "data": {
      "text/plain": [
       "[0, 4, 2]"
      ]
     },
     "execution_count": 28,
     "metadata": {},
     "output_type": "execute_result"
    }
   ],
   "source": [
    "a"
   ]
  },
  {
   "cell_type": "code",
   "execution_count": 29,
   "id": "a58c490f-254d-4d64-9bbc-0e434555f84f",
   "metadata": {},
   "outputs": [
    {
     "data": {
      "text/plain": [
       "2"
      ]
     },
     "execution_count": 29,
     "metadata": {},
     "output_type": "execute_result"
    }
   ],
   "source": [
    "a.pop()\n",
    "# pop : 리스트 마지막 값을 return 해주고 삭제한다"
   ]
  },
  {
   "cell_type": "code",
   "execution_count": 30,
   "id": "7d8aba5a-7acb-4343-9030-0eb4e11e1ea7",
   "metadata": {},
   "outputs": [
    {
     "ename": "NameError",
     "evalue": "name 'ᄆ' is not defined",
     "output_type": "error",
     "traceback": [
      "\u001b[1;31m---------------------------------------------------------------------------\u001b[0m",
      "\u001b[1;31mNameError\u001b[0m                                 Traceback (most recent call last)",
      "Input \u001b[1;32mIn [30]\u001b[0m, in \u001b[0;36m<cell line: 1>\u001b[1;34m()\u001b[0m\n\u001b[1;32m----> 1\u001b[0m \u001b[43mㅁ\u001b[49m\n",
      "\u001b[1;31mNameError\u001b[0m: name 'ᄆ' is not defined"
     ]
    }
   ],
   "source": [
    "ㅁ"
   ]
  },
  {
   "cell_type": "code",
   "execution_count": 31,
   "id": "9a8aba98-8cbc-4b77-be71-b6bc1afeb19d",
   "metadata": {},
   "outputs": [
    {
     "data": {
      "text/plain": [
       "[0, 4]"
      ]
     },
     "execution_count": 31,
     "metadata": {},
     "output_type": "execute_result"
    }
   ],
   "source": [
    "a"
   ]
  },
  {
   "cell_type": "code",
   "execution_count": 32,
   "id": "87798707-9649-4e42-b0d1-930882d6152d",
   "metadata": {},
   "outputs": [
    {
     "data": {
      "text/plain": [
       "[1, 2, 3, 1]"
      ]
     },
     "execution_count": 32,
     "metadata": {},
     "output_type": "execute_result"
    }
   ],
   "source": [
    "a = [1,2,3,1]\n",
    "a"
   ]
  },
  {
   "cell_type": "code",
   "execution_count": 33,
   "id": "4353382c-9ade-40ad-8d95-0b05259e49e3",
   "metadata": {},
   "outputs": [
    {
     "data": {
      "text/plain": [
       "2"
      ]
     },
     "execution_count": 33,
     "metadata": {},
     "output_type": "execute_result"
    }
   ],
   "source": [
    "a.count(1)"
   ]
  },
  {
   "cell_type": "code",
   "execution_count": 34,
   "id": "2e2a68dd-9c6d-4dad-b3e4-6b000785167e",
   "metadata": {},
   "outputs": [
    {
     "data": {
      "text/plain": [
       "0"
      ]
     },
     "execution_count": 34,
     "metadata": {},
     "output_type": "execute_result"
    }
   ],
   "source": [
    "a.count(8)"
   ]
  },
  {
   "cell_type": "code",
   "execution_count": 35,
   "id": "8964e8a3-a7fa-41ec-b371-d4291015c0b3",
   "metadata": {},
   "outputs": [],
   "source": [
    "a=[1,2,3]\n",
    "b=[4,5]\n",
    "a.extend(b)"
   ]
  },
  {
   "cell_type": "code",
   "execution_count": 36,
   "id": "01e9b255-8382-41bc-a2ab-e528ac300d7d",
   "metadata": {},
   "outputs": [
    {
     "data": {
      "text/plain": [
       "[1, 2, 3, 4, 5]"
      ]
     },
     "execution_count": 36,
     "metadata": {},
     "output_type": "execute_result"
    }
   ],
   "source": [
    "a"
   ]
  },
  {
   "cell_type": "code",
   "execution_count": 37,
   "id": "f738cbd5-cf77-4bdb-b2a0-fd4f035a1841",
   "metadata": {},
   "outputs": [
    {
     "data": {
      "text/plain": [
       "[1, 2, 3, 4, 5, 4, 5]"
      ]
     },
     "execution_count": 37,
     "metadata": {},
     "output_type": "execute_result"
    }
   ],
   "source": [
    "a+b"
   ]
  },
  {
   "cell_type": "code",
   "execution_count": 38,
   "id": "974ca238-a572-4241-9143-c0541f7b86de",
   "metadata": {},
   "outputs": [
    {
     "data": {
      "text/plain": [
       "[1, 2, 3, 4, 5, [4, 5]]"
      ]
     },
     "execution_count": 38,
     "metadata": {},
     "output_type": "execute_result"
    }
   ],
   "source": [
    "a.append(b)\n",
    "a"
   ]
  },
  {
   "cell_type": "raw",
   "id": "60417b65-6d43-4bfa-aa04-efeb51e79333",
   "metadata": {},
   "source": [
    "타자게임\n",
    "데이터를 저장 : word = []\n",
    "word 리스트에서 문제를 추출하여 제출하면 맞추는 게임\n",
    "- 한 번 출제된 문제는 맞출 때 까지 반복한다\n",
    "- 총 5문제를 출제, 다 맞추면 종료"
   ]
  },
  {
   "cell_type": "code",
   "execution_count": 39,
   "id": "c2cd795f-d140-45d1-ba59-4ad987e6a397",
   "metadata": {},
   "outputs": [],
   "source": [
    "# 문제 추출\n",
    "import random"
   ]
  },
  {
   "cell_type": "code",
   "execution_count": 64,
   "id": "63e42633-79dc-4889-a8fa-582986e0be11",
   "metadata": {},
   "outputs": [],
   "source": [
    "word = ['cat', 'dog', '강아지', '고양이']\n",
    "selectedWord = random.choice(word)"
   ]
  },
  {
   "cell_type": "code",
   "execution_count": 63,
   "id": "dd4aacd8-3e9b-48d0-bb01-9cde83cbb141",
   "metadata": {},
   "outputs": [
    {
     "name": "stdin",
     "output_type": "stream",
     "text": [
      "입력 :  강아지\n"
     ]
    }
   ],
   "source": [
    "answer = input('입력 : ')"
   ]
  },
  {
   "cell_type": "code",
   "execution_count": 67,
   "id": "86f515e9-88fe-4212-978e-68355989e55e",
   "metadata": {},
   "outputs": [
    {
     "ename": "SyntaxError",
     "evalue": "invalid syntax (2875624570.py, line 1)",
     "output_type": "error",
     "traceback": [
      "\u001b[1;36m  Input \u001b[1;32mIn [67]\u001b[1;36m\u001b[0m\n\u001b[1;33m    if (answer == selectedWord)\u001b[0m\n\u001b[1;37m                               ^\u001b[0m\n\u001b[1;31mSyntaxError\u001b[0m\u001b[1;31m:\u001b[0m invalid syntax\n"
     ]
    }
   ],
   "source": [
    "if (answer == selectedWord)\n",
    "    print('정답')"
   ]
  },
  {
   "cell_type": "code",
   "execution_count": 68,
   "id": "76024bfe-8e2f-4a32-8a8b-ac7b01f65ab6",
   "metadata": {},
   "outputs": [],
   "source": [
    "word = ['cat', 'dog', '강아지', '고양이']\n",
    "selectedWord = random.choice(word)"
   ]
  },
  {
   "cell_type": "code",
   "execution_count": 70,
   "id": "44311de5-b08e-4778-8fba-a817694b6089",
   "metadata": {
    "tags": []
   },
   "outputs": [
    {
     "name": "stdout",
     "output_type": "stream",
     "text": [
      "1번\n",
      "고양이\n"
     ]
    },
    {
     "name": "stdin",
     "output_type": "stream",
     "text": [
      ">>> 고양이\n"
     ]
    },
    {
     "name": "stdout",
     "output_type": "stream",
     "text": [
      "통과!\n",
      "2번\n",
      "고양이\n"
     ]
    },
    {
     "name": "stdin",
     "output_type": "stream",
     "text": [
      ">>> 고양이\n"
     ]
    },
    {
     "name": "stdout",
     "output_type": "stream",
     "text": [
      "통과!\n",
      "3번\n",
      "고양이\n"
     ]
    },
    {
     "name": "stdin",
     "output_type": "stream",
     "text": [
      ">>> 고양이\n"
     ]
    },
    {
     "name": "stdout",
     "output_type": "stream",
     "text": [
      "통과!\n",
      "4번\n",
      "강아지\n"
     ]
    },
    {
     "name": "stdin",
     "output_type": "stream",
     "text": [
      ">>> 강아지\n"
     ]
    },
    {
     "name": "stdout",
     "output_type": "stream",
     "text": [
      "통과!\n",
      "5번\n",
      "cat\n"
     ]
    },
    {
     "name": "stdin",
     "output_type": "stream",
     "text": [
      ">>> cat\n"
     ]
    },
    {
     "name": "stdout",
     "output_type": "stream",
     "text": [
      "통과!\n",
      "5문제 완료!!\n"
     ]
    }
   ],
   "source": [
    "n = 1\n",
    "quiz = random.choice(word)\n",
    "while n <= 5:\n",
    "    print(f'{n}번')\n",
    "    print(quiz)\n",
    "    result = input('>>>')\n",
    "    if quiz == result:\n",
    "        print('통과!')\n",
    "        n +=1\n",
    "        quiz = random.choice(word)\n",
    "    else:\n",
    "        print('오타! 다시 도전!')\n",
    "print('5문제 완료!!')"
   ]
  },
  {
   "cell_type": "markdown",
   "id": "ccd4429e-5051-4ad8-84d7-ea43be100621",
   "metadata": {},
   "source": [
    "여기서 선언한 변수, 리스트 파일에 저장하기"
   ]
  },
  {
   "cell_type": "code",
   "execution_count": 76,
   "id": "176ca70b-4857-4d6f-ae72-5bf378f9f3de",
   "metadata": {},
   "outputs": [],
   "source": [
    "# 문제 저장작업\n",
    "import json,pickle"
   ]
  },
  {
   "cell_type": "code",
   "execution_count": 88,
   "id": "3965b368-4e64-4041-a187-d722e1aa0407",
   "metadata": {},
   "outputs": [],
   "source": [
    "f = open('word.json', 'w')\n",
    "json.dump(word, f)\n",
    "f.close()"
   ]
  },
  {
   "cell_type": "code",
   "execution_count": 89,
   "id": "25e3c415-b181-41b8-80c3-1bc4b90b55fb",
   "metadata": {},
   "outputs": [],
   "source": [
    "f = open('word.json', 'r')\n",
    "word_1 = json.load(f)\n",
    "f.close()"
   ]
  },
  {
   "cell_type": "code",
   "execution_count": 79,
   "id": "4adf86be-f435-4689-82b3-ebdedefd9579",
   "metadata": {},
   "outputs": [
    {
     "data": {
      "text/plain": [
       "['cat', 'dog', '강아지', '고양이', '멍멍이', 'meow']"
      ]
     },
     "execution_count": 79,
     "metadata": {},
     "output_type": "execute_result"
    }
   ],
   "source": [
    "word_1"
   ]
  },
  {
   "cell_type": "code",
   "execution_count": 90,
   "id": "773836f5-a249-4e81-b632-c36982f4c97b",
   "metadata": {},
   "outputs": [],
   "source": [
    "f = open('word.pickle', 'wb')\n",
    "pickle.dump(word, f)\n",
    "f.close()"
   ]
  },
  {
   "cell_type": "code",
   "execution_count": 91,
   "id": "892a4933-0feb-4bc2-8a11-38f8074ea359",
   "metadata": {},
   "outputs": [],
   "source": [
    "f = open('word.pickle', 'rb')\n",
    "word_2 = pickle.load(f)\n",
    "f.close()"
   ]
  },
  {
   "cell_type": "code",
   "execution_count": 92,
   "id": "5f75f3a6-d8e7-47e1-aab1-0de8ee2db84f",
   "metadata": {},
   "outputs": [
    {
     "data": {
      "text/plain": [
       "['cat', 'dog', '강아지', '고양이', '멍멍이', 'meow']"
      ]
     },
     "execution_count": 92,
     "metadata": {},
     "output_type": "execute_result"
    }
   ],
   "source": [
    "word_2"
   ]
  },
  {
   "cell_type": "code",
   "execution_count": 97,
   "id": "47638353-d630-4f90-ae03-45c219a177e9",
   "metadata": {},
   "outputs": [],
   "source": [
    "import time"
   ]
  },
  {
   "cell_type": "code",
   "execution_count": 98,
   "id": "4e88146c-5df8-450a-861d-8cfbeb89b92a",
   "metadata": {},
   "outputs": [
    {
     "data": {
      "text/plain": [
       "1656385072.2856019"
      ]
     },
     "execution_count": 98,
     "metadata": {},
     "output_type": "execute_result"
    }
   ],
   "source": [
    "time.time()"
   ]
  },
  {
   "cell_type": "code",
   "execution_count": 105,
   "id": "78bad51a-6488-476c-a748-b7a6d7c040f4",
   "metadata": {},
   "outputs": [
    {
     "data": {
      "text/plain": [
       "['asdasd', '미미']"
      ]
     },
     "execution_count": 105,
     "metadata": {},
     "output_type": "execute_result"
    }
   ],
   "source": [
    "rank = {'미미': 8.564553022384644, 'asdasd': 8.686366319656372}\n",
    "sorted(rank)\n",
    "# sorted 는 key값으로 정렬해준다"
   ]
  },
  {
   "cell_type": "code",
   "execution_count": 106,
   "id": "c7ecd9c0-9ff1-47d5-9587-b60d261ffa48",
   "metadata": {},
   "outputs": [
    {
     "data": {
      "text/plain": [
       "[('미미', 8.564553022384644), ('asdasd', 8.686366319656372)]"
      ]
     },
     "execution_count": 106,
     "metadata": {},
     "output_type": "execute_result"
    }
   ],
   "source": [
    "sorted(rank.items(), key=lambda x : x[1])\n",
    "# .items : key, value 의 쌍을 튜플로 묶은 값을 객체로 돌려준다 -> 순서 있어서 정렬 가능"
   ]
  },
  {
   "cell_type": "code",
   "execution_count": 108,
   "id": "4b5fba35-2475-4bde-a4bf-12451332d403",
   "metadata": {},
   "outputs": [
    {
     "name": "stdout",
     "output_type": "stream",
     "text": [
      "('미미', 8.564553022384644)\n",
      "('asdasd', 8.686366319656372)\n"
     ]
    }
   ],
   "source": [
    "rnk = sorted(rank.items(), key=lambda x : x[1])\n",
    "for i in rnk:\n",
    "    print(i)"
   ]
  },
  {
   "cell_type": "code",
   "execution_count": 3,
   "id": "80b7e17f-1147-4a39-a65d-e9b59e8d34ad",
   "metadata": {
    "tags": []
   },
   "outputs": [
    {
     "name": "stdin",
     "output_type": "stream",
     "text": [
      "\n",
      "-------------------------------------------------------------------------------------\n",
      "1. 게임하기       2. 문제추가      3. 문제 저장      4.등수 리스트        5.종료\n",
      "-------------------------------------------------------------------------------------\n",
      ">>> 4\n"
     ]
    },
    {
     "name": "stdout",
     "output_type": "stream",
     "text": [
      "등수 리스트\n",
      "1등 미미 시간:9초\n",
      "2등 asdasd 시간:9초\n"
     ]
    },
    {
     "name": "stdin",
     "output_type": "stream",
     "text": [
      "\n",
      "-------------------------------------------------------------------------------------\n",
      "1. 게임하기       2. 문제추가      3. 문제 저장      4.등수 리스트        5.종료\n",
      "-------------------------------------------------------------------------------------\n",
      ">>> 343\n"
     ]
    },
    {
     "name": "stdout",
     "output_type": "stream",
     "text": [
      "메뉴를 잘 못 선택하셨습니다\n"
     ]
    },
    {
     "name": "stdin",
     "output_type": "stream",
     "text": [
      "\n",
      "-------------------------------------------------------------------------------------\n",
      "1. 게임하기       2. 문제추가      3. 문제 저장      4.등수 리스트        5.종료\n",
      "-------------------------------------------------------------------------------------\n",
      ">>> 5\n"
     ]
    },
    {
     "name": "stdout",
     "output_type": "stream",
     "text": [
      "프로그램 종료\n"
     ]
    }
   ],
   "source": [
    "import json\n",
    "f = open('word.json', 'r')\n",
    "word = json.load(f)\n",
    "f.close()\n",
    "# word=[]\n",
    "\n",
    "# 등수리스트 rank에 저장\n",
    "rank = {'미미': 8.564553022384644, 'asdasd': 8.686366319656372}\n",
    "\n",
    "menu_display = '''\n",
    "-------------------------------------------------------------------------------------\n",
    "1. 게임하기       2. 문제추가      3. 문제 저장      4.등수 리스트        5.종료\n",
    "-------------------------------------------------------------------------------------\n",
    ">>>'''\n",
    "\n",
    "while True:\n",
    "    menu = input(menu_display)\n",
    "    if menu == '1':\n",
    "        print('게임 시작!')\n",
    "        start = time.time()\n",
    "        n = 1\n",
    "        quiz = random.choice(word)\n",
    "        while n <= 5:\n",
    "            print(f'{n}번')\n",
    "            print(quiz)\n",
    "            result = input('>>>')\n",
    "            if quiz == result:\n",
    "                print('통과!')\n",
    "                n +=1\n",
    "                quiz = random.choice(word)\n",
    "            else:\n",
    "                print('오타! 다시 도전!')\n",
    "        print('5문제 완료!!')\n",
    "        end = time.time()\n",
    "        print(f'걸린 시간 : {end-start:.0f}초')\n",
    "#       딕셔너리에 값 저장 -> 이름=key : 걸린시간=value\n",
    "        name = input('이름을 입력하세요')\n",
    "        rank[name] = end-start1\n",
    "        print(rank)\n",
    "        \n",
    "    elif menu == '2':\n",
    "        print('문제 추가작업')\n",
    "        while True:\n",
    "            data = input('(종료:enter) >>>')\n",
    "            if data == '':\n",
    "                break\n",
    "            word.append(data)\n",
    "            print(word)\n",
    "    elif menu == '3':\n",
    "        print('문제 저장작업')\n",
    "    elif menu =='4':\n",
    "        print('등수 리스트')\n",
    "#       index랑 key,value묶어서 하나니까 괄호 해줘야 됨\n",
    "        for index,(k,v) in enumerate(sorted(rank.items(), key=lambda x : x[1])):\n",
    "            print(f'{index+1}등 {k} 시간:{v:.0f}초')\n",
    "    elif menu =='5':\n",
    "        print('프로그램 종료')\n",
    "        f = open('word.json', 'w')\n",
    "        json.dump(word,f)\n",
    "        f.close()\n",
    "        break\n",
    "    else:\n",
    "        print('메뉴를 잘 못 선택하셨습니다')"
   ]
  },
  {
   "cell_type": "raw",
   "id": "5aa9cf94-9c0f-4a99-a544-3f2eb67cbacb",
   "metadata": {},
   "source": [
    "커피 자판기 관리 프로그램\n",
    "1. 커피 자판기 2.메뉴 추가 3.메뉴 삭제 4.메뉴 목록 5.종료\n",
    "-프로그램이 시작될 때 필요한 정보를 읽어서 시작\n",
    "-1. 커피 자판기 : 실행하면 무한 반복하면서 돈을 입력받고 메뉴를 선택해 처리한다\n",
    "-2. 메뉴 추가 : 자판기에서 판매하는 메뉴를 추가하는 기능(음료명, 가격) 리스트, 딕셔너리, 튜플 중 하나 사용해서 저장\n",
    "-3. 메뉴 삭제 : 전체 목록을 보여주고 삭제하고자 하는 항목 선택하도록 해서 삭제 처리\n",
    "-4. 메뉴 목록 : 음료명, 가격 순으로 데이터를 정렬해서 보여주기\n",
    "-5. 종료 : 저장할 정보가 있으면 저장 후 종료"
   ]
  },
  {
   "cell_type": "code",
   "execution_count": 9,
   "id": "9efe89a5-4a56-4c5c-b29c-71353350d88f",
   "metadata": {},
   "outputs": [
    {
     "data": {
      "text/plain": [
       "{'coffee': 500, 'milk': 500, 'chocolatelatte': 1000}"
      ]
     },
     "execution_count": 9,
     "metadata": {},
     "output_type": "execute_result"
    }
   ],
   "source": [
    "menus={'coffee':500, 'milk':500, 'chocolatelatte':1000}\n",
    "menus"
   ]
  },
  {
   "cell_type": "code",
   "execution_count": 10,
   "id": "a2fb79f1-7596-4971-8262-ea81643abdfd",
   "metadata": {},
   "outputs": [
    {
     "data": {
      "text/plain": [
       "dict_values([500, 500, 1000])"
      ]
     },
     "execution_count": 10,
     "metadata": {},
     "output_type": "execute_result"
    }
   ],
   "source": [
    "menus.values()"
   ]
  },
  {
   "cell_type": "code",
   "execution_count": 12,
   "id": "125fc869-0741-4699-bfd8-dafb3b839d77",
   "metadata": {},
   "outputs": [
    {
     "data": {
      "text/plain": [
       "[('coffee', 500), ('milk', 500), ('chocolatelatte', 1000)]"
      ]
     },
     "execution_count": 12,
     "metadata": {},
     "output_type": "execute_result"
    }
   ],
   "source": [
    "sorted(menus.items(), key=lambda x : x[1])"
   ]
  },
  {
   "cell_type": "code",
   "execution_count": 23,
   "id": "cb76c611-fe5d-4b55-bf6f-fee1c6cf5b33",
   "metadata": {},
   "outputs": [
    {
     "name": "stdin",
     "output_type": "stream",
     "text": [
      "돈을 넣어주세요 3000\n"
     ]
    },
    {
     "ename": "TypeError",
     "evalue": "can only concatenate str (not \"dict\") to str",
     "output_type": "error",
     "traceback": [
      "\u001b[1;31m---------------------------------------------------------------------------\u001b[0m",
      "\u001b[1;31mTypeError\u001b[0m                                 Traceback (most recent call last)",
      "Input \u001b[1;32mIn [23]\u001b[0m, in \u001b[0;36m<cell line: 2>\u001b[1;34m()\u001b[0m\n\u001b[0;32m      1\u001b[0m inputMoney \u001b[38;5;241m=\u001b[39m \u001b[38;5;28minput\u001b[39m(\u001b[38;5;124m'\u001b[39m\u001b[38;5;124m돈을 넣어주세요\u001b[39m\u001b[38;5;124m'\u001b[39m)\n\u001b[1;32m----> 2\u001b[0m \u001b[38;5;28mprint\u001b[39m(\u001b[38;5;124;43m'\u001b[39;49m\u001b[38;5;124;43m음료 목록 : \u001b[39;49m\u001b[38;5;124;43m'\u001b[39;49m\u001b[43m \u001b[49m\u001b[38;5;241;43m+\u001b[39;49m\u001b[43m \u001b[49m\u001b[43mmenus\u001b[49m)\n\u001b[0;32m      3\u001b[0m inputDrink \u001b[38;5;241m=\u001b[39m \u001b[38;5;28minput\u001b[39m(\u001b[38;5;124m'\u001b[39m\u001b[38;5;124m음료를 선택하세요 >>>\u001b[39m\u001b[38;5;124m'\u001b[39m)\n",
      "\u001b[1;31mTypeError\u001b[0m: can only concatenate str (not \"dict\") to str"
     ]
    }
   ],
   "source": [
    "inputMoney = input('돈을 넣어주세요')\n",
    "print('음료 목록 : ' + menus)\n",
    "inputDrink = input('음료를 선택하세요 >>>')\n",
    "        "
   ]
  },
  {
   "cell_type": "code",
   "execution_count": null,
   "id": "90521a81-4e7b-4ba8-bfd3-7bdbd854ed93",
   "metadata": {},
   "outputs": [
    {
     "name": "stdin",
     "output_type": "stream",
     "text": [
      "\n",
      "-------------------------------------------------------------------------------------\n",
      "1. 커피 자판기       2. 메뉴 추가      3. 메뉴 삭제      4.메뉴 목록        5.종료\n",
      "-------------------------------------------------------------------------------------\n",
      ">>> 1\n"
     ]
    },
    {
     "name": "stdout",
     "output_type": "stream",
     "text": [
      "메뉴를 선택하세요\n",
      "아이스아메리카노:2,000원 라떼:3,500원 핫초코:4,000원 프라푸치노:6,000원 \n"
     ]
    },
    {
     "name": "stdin",
     "output_type": "stream",
     "text": [
      "메뉴 선택 >>>(종료:enter) 라떼\n",
      "돈을 넣어주세요 >>> 3000\n"
     ]
    },
    {
     "name": "stdout",
     "output_type": "stream",
     "text": [
      "돈이 모자랍니다\n",
      "아이스아메리카노:2,000원 라떼:3,500원 핫초코:4,000원 프라푸치노:6,000원 \n"
     ]
    }
   ],
   "source": [
    "menus={'아이스아메리카노':2000,\n",
    "      '라떼':3500,\n",
    "       '핫초코':4000,\n",
    "       '프라푸치노':6000\n",
    "      }\n",
    "coffeeMachine_dispaly= '''\n",
    "-------------------------------------------------------------------------------------\n",
    "1. 커피 자판기       2. 메뉴 추가      3. 메뉴 삭제      4.메뉴 목록        5.종료\n",
    "-------------------------------------------------------------------------------------\n",
    ">>>'''\n",
    "while True:\n",
    "    menuSelect = input(coffeeMachine_dispaly)\n",
    "    if menuSelect =='1':\n",
    "        print(\"메뉴를 선택하세요\")\n",
    "        choice = '선택한 메뉴'\n",
    "#       choice에 글자가 있으면 true, 없으면 false가 됨\n",
    "        while choice:\n",
    "            for k,v in menus.items():\n",
    "                print(f'{k}:{v:,}원',end=' ')\n",
    "            print()\n",
    "            choice = input('메뉴 선택 >>>(종료:enter)')\n",
    "            money = int(input('돈을 넣어주세요 >>>'))\n",
    "            if choice in menus.keys():\n",
    "                if money >= menus[choice]:\n",
    "                    money -= menus[choice]\n",
    "                    print(f'{choice} 선택 완. 거스름돈 {money} 원 챙겨가')\n",
    "                elif money < menus[choice]:\n",
    "                    print('돈이 모자랍니다')\n",
    "            else:\n",
    "                print('해당 메뉴가 없습니다.')\n",
    "            \n",
    "    elif menuSelect =='2':\n",
    "        print('추가할 음료와 가격을 입력하세요')\n",
    "        menu_name = input('메뉴명 >>>')\n",
    "        \n",
    "        menu_price = ''\n",
    "#       숫자면 가격으로 입력할 수 있도록. isdigit() : 숫자면 true\n",
    "        while not menu_price.isdigit():\n",
    "            menu_price = input('가격 >>>')\n",
    "        menu_price = int(menu_price)\n",
    "        \n",
    "        if menu_name in menus.keys():\n",
    "            print(f'{menu_name} 메뉴가 존재합니다. 수정할게')\n",
    "        else:\n",
    "            print(f'{menu_name} 메뉴를 추가합니다')\n",
    "        menus[menu_name] = menu_price\n",
    "        print(menus)\n",
    "    elif menuSelect == '3':\n",
    "        print('삭제할 메뉴를 선택하세요')\n",
    "        menu_name = input('메뉴명 >>>')\n",
    "        if menu_name in menus.keys():\n",
    "            print(f'{menu_name} 메뉴를 삭제 합니다.')\n",
    "            del menus[menu_name]\n",
    "        else:\n",
    "            print(f'{menu_name} 메뉴가 없습니다.')\n",
    "        print(menus)\n",
    "    elif menuSelect == '4':\n",
    "        print('메뉴 목록 보기')\n",
    "        menu_1 = input('1. 메뉴 이름 순  2. 가격 순 >>>')\n",
    "        if menu_1 =='1':\n",
    "            for k,v in sorted(menus.items(), key=lambda x :x[0]):\n",
    "                print(f'{k:25} : {v:10,}원')\n",
    "        elif menu_1 =='2':\n",
    "            for k,v in sorted(menus.items(), key=lambda x :x[1]):\n",
    "                print(f'{k:25} : {v:10,}원')\n",
    "    elif menuSelect == '5':\n",
    "        print('종료~')\n",
    "        break\n",
    "    else:\n",
    "        print('1부터 5까지의 숫자 중 하나를 입력하세요')"
   ]
  },
  {
   "cell_type": "markdown",
   "id": "8f177fb0-af32-4e21-b83d-216a42ed8448",
   "metadata": {},
   "source": [
    "**"
   ]
  }
 ],
 "metadata": {
  "kernelspec": {
   "display_name": "Python 3 (ipykernel)",
   "language": "python",
   "name": "python3"
  },
  "language_info": {
   "codemirror_mode": {
    "name": "ipython",
    "version": 3
   },
   "file_extension": ".py",
   "mimetype": "text/x-python",
   "name": "python",
   "nbconvert_exporter": "python",
   "pygments_lexer": "ipython3",
   "version": "3.9.12"
  }
 },
 "nbformat": 4,
 "nbformat_minor": 5
}
