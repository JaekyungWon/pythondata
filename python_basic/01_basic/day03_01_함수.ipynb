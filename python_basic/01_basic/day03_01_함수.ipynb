{
 "cells": [
  {
   "cell_type": "markdown",
   "id": "7d0f645a-adb9-40ba-aa26-9c03fa828506",
   "metadata": {},
   "source": [
    "set 자료형"
   ]
  },
  {
   "cell_type": "code",
   "execution_count": 1,
   "id": "36fad005-993d-430d-a247-854d31f9b95d",
   "metadata": {},
   "outputs": [
    {
     "data": {
      "text/plain": [
       "[1, 2, 1, 3, 4, 5, 6, 6, 3]"
      ]
     },
     "execution_count": 1,
     "metadata": {},
     "output_type": "execute_result"
    }
   ],
   "source": [
    "a=[1,2,1,3,4,5,6,6,3]\n",
    "a"
   ]
  },
  {
   "cell_type": "code",
   "execution_count": 2,
   "id": "1b967399-e089-417e-9bfb-ad44dfeb672b",
   "metadata": {},
   "outputs": [
    {
     "data": {
      "text/plain": [
       "{1, 2, 3, 4, 5, 6}"
      ]
     },
     "execution_count": 2,
     "metadata": {},
     "output_type": "execute_result"
    }
   ],
   "source": [
    "set(a)"
   ]
  },
  {
   "cell_type": "markdown",
   "id": "28850762-3ce9-4eee-89dc-f41d3ca267ee",
   "metadata": {},
   "source": [
    "set : dictionary랑 비슷한데 value가 없고 key만 있는 형태.\n",
    "중복되는 값 빼고 보고 싶을 때 set을 쓰기도 한다"
   ]
  },
  {
   "cell_type": "code",
   "execution_count": 11,
   "id": "c61fde96-6672-42b2-839e-89f8c9772981",
   "metadata": {},
   "outputs": [],
   "source": [
    "def add(a,b):\n",
    "    return a+b\n",
    "# def add(a=1, b=1) 이렇게 default 값을 줄 수도 있다"
   ]
  },
  {
   "cell_type": "code",
   "execution_count": 4,
   "id": "a2bf299d-01fa-48b8-85f7-0f31ef7cfd38",
   "metadata": {},
   "outputs": [
    {
     "data": {
      "text/plain": [
       "3"
      ]
     },
     "execution_count": 4,
     "metadata": {},
     "output_type": "execute_result"
    }
   ],
   "source": [
    "add(1,2)"
   ]
  },
  {
   "cell_type": "code",
   "execution_count": 5,
   "id": "3b90fa64-c43e-4800-b0d7-1e913d874357",
   "metadata": {},
   "outputs": [
    {
     "ename": "TypeError",
     "evalue": "add() missing 1 required positional argument: 'b'",
     "output_type": "error",
     "traceback": [
      "\u001b[1;31m---------------------------------------------------------------------------\u001b[0m",
      "\u001b[1;31mTypeError\u001b[0m                                 Traceback (most recent call last)",
      "Input \u001b[1;32mIn [5]\u001b[0m, in \u001b[0;36m<cell line: 1>\u001b[1;34m()\u001b[0m\n\u001b[1;32m----> 1\u001b[0m \u001b[43madd\u001b[49m\u001b[43m(\u001b[49m\u001b[38;5;241;43m4\u001b[39;49m\u001b[43m)\u001b[49m\n",
      "\u001b[1;31mTypeError\u001b[0m: add() missing 1 required positional argument: 'b'"
     ]
    }
   ],
   "source": [
    "add(4)"
   ]
  },
  {
   "cell_type": "code",
   "execution_count": 6,
   "id": "1bbde75f-0f67-431c-af64-34cb14269067",
   "metadata": {},
   "outputs": [],
   "source": [
    "def add2(a,b):\n",
    "    return a,b"
   ]
  },
  {
   "cell_type": "code",
   "execution_count": 7,
   "id": "62df579c-d8b6-4936-91ec-e5ea9978a5b0",
   "metadata": {},
   "outputs": [
    {
     "data": {
      "text/plain": [
       "(3, 4)"
      ]
     },
     "execution_count": 7,
     "metadata": {},
     "output_type": "execute_result"
    }
   ],
   "source": [
    "add2(3,4)"
   ]
  },
  {
   "cell_type": "markdown",
   "id": "61ab0155-7dfc-4fda-ad0f-65dae715789b",
   "metadata": {},
   "source": [
    "python에서는 함수 값이 하나 이상일 수 있다(튜플로 묶어서 내보내준다)"
   ]
  },
  {
   "cell_type": "code",
   "execution_count": 10,
   "id": "77e343b0-84dc-40f0-ac1e-075f81234ae9",
   "metadata": {},
   "outputs": [
    {
     "data": {
      "text/plain": [
       "8"
      ]
     },
     "execution_count": 10,
     "metadata": {},
     "output_type": "execute_result"
    }
   ],
   "source": [
    "add(b=3,a=5)\n",
    "# a,b 순서로 넣어도 되고 이렇게 각각 지정해줘도 됨"
   ]
  },
  {
   "cell_type": "code",
   "execution_count": 16,
   "id": "c497af9e-c677-4c1e-b82b-534dfbefb320",
   "metadata": {},
   "outputs": [],
   "source": [
    "def add_many(*args):  #*을 쓰면 매개변수 갯수가 몇개인지 정해져있지 않을 때 쓰인다. 튜플로 묶어 줌\n",
    "    print(args)\n",
    "    result = 0\n",
    "    for i in args:\n",
    "        result = result +i\n",
    "    return result"
   ]
  },
  {
   "cell_type": "code",
   "execution_count": 15,
   "id": "8b169371-7a0f-4844-a8e0-110ded272432",
   "metadata": {},
   "outputs": [
    {
     "name": "stdout",
     "output_type": "stream",
     "text": [
      "(3, 4, 5, 6, 7, 43, 5, 1, 23, 29)\n"
     ]
    },
    {
     "data": {
      "text/plain": [
       "126"
      ]
     },
     "execution_count": 15,
     "metadata": {},
     "output_type": "execute_result"
    }
   ],
   "source": [
    "add_many(3,4,5,6,7,43,5,1,23,29)"
   ]
  },
  {
   "cell_type": "code",
   "execution_count": 17,
   "id": "1f98d86c-6ed4-4b7f-8b01-2592dad312a4",
   "metadata": {},
   "outputs": [],
   "source": [
    "def add_mul(choice, *args):\n",
    "    if choice ==\"add\":\n",
    "        result = 0\n",
    "        for i in args:\n",
    "            result = result + i\n",
    "    elif choice == \"mul\":\n",
    "        result = 1\n",
    "        for i in args:\n",
    "            result = result * i\n",
    "    return result"
   ]
  },
  {
   "cell_type": "code",
   "execution_count": 18,
   "id": "64de93c0-e4b0-42c4-9683-f52b62a43e4d",
   "metadata": {},
   "outputs": [
    {
     "data": {
      "text/plain": [
       "19"
      ]
     },
     "execution_count": 18,
     "metadata": {},
     "output_type": "execute_result"
    }
   ],
   "source": [
    "add_mul('add', 1, 2,2,3,4,5,2)"
   ]
  },
  {
   "cell_type": "code",
   "execution_count": 19,
   "id": "c49e5816-bd07-457e-b0a1-beffbfd2c32f",
   "metadata": {},
   "outputs": [],
   "source": [
    "# **는 key,value를 받아 딕셔너리로 넘겨준다\n",
    "def print_kwargs(**kwargs):\n",
    "    print(kwargs)"
   ]
  },
  {
   "cell_type": "markdown",
   "id": "4d66a0cd-6a08-477a-8c3e-323eb6ce8fac",
   "metadata": {},
   "source": [
    "정규표현식 : 파이썬 고유문법이 아니라 문자열을 처리하는 모든 곳에서 사용한다."
   ]
  },
  {
   "cell_type": "code",
   "execution_count": 20,
   "id": "568e5733-d8a9-4cf1-9701-4e8808e526c1",
   "metadata": {},
   "outputs": [],
   "source": [
    "import re"
   ]
  },
  {
   "cell_type": "code",
   "execution_count": 21,
   "id": "c216fd84-4f10-4ecd-9e50-24d74a162c5f",
   "metadata": {},
   "outputs": [
    {
     "name": "stdout",
     "output_type": "stream",
     "text": [
      "<re.Match object; span=(0, 6), match='python'>\n"
     ]
    }
   ],
   "source": [
    "p = re.compile('[a-z]+')\n",
    "m = p.match('python')\n",
    "print(m)"
   ]
  },
  {
   "cell_type": "raw",
   "id": "aa0f425a-f49b-4074-882b-76f21b9ab0e8",
   "metadata": {},
   "source": [
    "match, search는 하나를 찾으면 끝남"
   ]
  },
  {
   "cell_type": "code",
   "execution_count": 22,
   "id": "d519a978-d323-4b5b-a4b3-728b52c4f0bc",
   "metadata": {},
   "outputs": [],
   "source": [
    "m = p.match('Python1python')\n",
    "m"
   ]
  },
  {
   "cell_type": "code",
   "execution_count": 23,
   "id": "5aeed9e2-8985-4fb3-b013-8cc67b8c1629",
   "metadata": {},
   "outputs": [],
   "source": [
    "# 소문자로 시작하는 게 아니니까 아무것도 return 하지 않는다"
   ]
  },
  {
   "cell_type": "code",
   "execution_count": 25,
   "id": "32319e76-684e-4584-b8ee-981e8183c440",
   "metadata": {},
   "outputs": [
    {
     "data": {
      "text/plain": [
       "<re.Match object; span=(1, 6), match='ython'>"
      ]
     },
     "execution_count": 25,
     "metadata": {},
     "output_type": "execute_result"
    }
   ],
   "source": [
    "m= p.search('Python1python')\n",
    "m"
   ]
  },
  {
   "cell_type": "code",
   "execution_count": 26,
   "id": "307e055e-8f96-47b8-b639-1351335e3218",
   "metadata": {},
   "outputs": [],
   "source": [
    "# search는 전체를 검색하기 때문에 중간부터 있어도 찾아준다."
   ]
  },
  {
   "cell_type": "code",
   "execution_count": 27,
   "id": "988f8305-1d84-48a3-9f95-28dccc2703f9",
   "metadata": {},
   "outputs": [
    {
     "data": {
      "text/plain": [
       "['life', 'is', 'too', 'short']"
      ]
     },
     "execution_count": 27,
     "metadata": {},
     "output_type": "execute_result"
    }
   ],
   "source": [
    "result = p.findall(\"life is too short\")\n",
    "result"
   ]
  },
  {
   "cell_type": "code",
   "execution_count": 28,
   "id": "72b9f151-8672-4910-b618-35d95db0dd5b",
   "metadata": {},
   "outputs": [],
   "source": [
    "# findall은 매치되는 모든 것을 찾아 리스트로 돌려준다"
   ]
  },
  {
   "cell_type": "code",
   "execution_count": 36,
   "id": "dd045094-21d8-4b87-9e38-cda731f6bee4",
   "metadata": {},
   "outputs": [
    {
     "name": "stdin",
     "output_type": "stream",
     "text": [
      "이메일 >>> asdjkl@asndkl.com\n"
     ]
    },
    {
     "data": {
      "text/plain": [
       "<re.Match object; span=(0, 17), match='asdjkl@asndkl.com'>"
      ]
     },
     "execution_count": 36,
     "metadata": {},
     "output_type": "execute_result"
    }
   ],
   "source": [
    "p = re.compile('[a-z][a-z0-9]{4,}@[a-z]{2,}[.](kr|com|org|net)$')\n",
    "email = input('이메일 >>>')\n",
    "result = p.match(email)\n",
    "result"
   ]
  },
  {
   "cell_type": "code",
   "execution_count": null,
   "id": "739d91ba-d60f-4fc3-8cec-eafa17c71827",
   "metadata": {},
   "outputs": [],
   "source": []
  }
 ],
 "metadata": {
  "kernelspec": {
   "display_name": "Python 3 (ipykernel)",
   "language": "python",
   "name": "python3"
  },
  "language_info": {
   "codemirror_mode": {
    "name": "ipython",
    "version": 3
   },
   "file_extension": ".py",
   "mimetype": "text/x-python",
   "name": "python",
   "nbconvert_exporter": "python",
   "pygments_lexer": "ipython3",
   "version": "3.9.12"
  }
 },
 "nbformat": 4,
 "nbformat_minor": 5
}
